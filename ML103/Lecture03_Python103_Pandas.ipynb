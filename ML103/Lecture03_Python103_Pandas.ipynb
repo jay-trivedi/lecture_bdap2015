{
 "cells": [
  {
   "cell_type": "markdown",
   "metadata": {
    "collapsed": true
   },
   "source": []
  },
  {
   "cell_type": "markdown",
   "metadata": {},
   "source": []
  },
  {
   "cell_type": "markdown",
   "metadata": {},
   "source": []
  },
  {
   "cell_type": "markdown",
   "metadata": {},
   "source": []
  },
  {
   "cell_type": "markdown",
   "metadata": {},
   "source": []
  },
  {
   "cell_type": "markdown",
   "metadata": {},
   "source": []
  },
  {
   "cell_type": "markdown",
   "metadata": {},
   "source": []
  },
  {
   "cell_type": "markdown",
   "metadata": {},
   "source": []
  },
  {
   "cell_type": "markdown",
   "metadata": {},
   "source": []
  },
  {
   "cell_type": "markdown",
   "metadata": {},
   "source": [
    "* The 10-minute introduction to Pandas - http://pandas.pydata.org/pandas-docs/stable/10min.html\n",
    "* All Pandas Tutorials - http://pandas.pydata.org/pandas-docs/stable/tutorials.html\n",
    "* Pandas Idioms and Cookbooks - http://pandas.pydata.org/pandas-docs/stable/cookbook.html\n",
    "* Group By: split-apply-combine - http://pandas.pydata.org/pandas-docs/stable/groupby.html\n",
    "* Merge, Join and Concatenate - http://pandas.pydata.org/pandas-docs/stable/merging.html\n",
    "* Reshaping and Pivot Tables - http://pandas.pydata.org/pandas-docs/stable/reshaping.html"
   ]
  }
 ],
 "metadata": {
  "kernelspec": {
   "display_name": "Python 3",
   "language": "python",
   "name": "python3"
  },
  "language_info": {
   "codemirror_mode": {
    "name": "ipython",
    "version": 3
   },
   "file_extension": ".py",
   "mimetype": "text/x-python",
   "name": "python",
   "nbconvert_exporter": "python",
   "pygments_lexer": "ipython3",
   "version": "3.5.1"
  }
 },
 "nbformat": 4,
 "nbformat_minor": 0
}
