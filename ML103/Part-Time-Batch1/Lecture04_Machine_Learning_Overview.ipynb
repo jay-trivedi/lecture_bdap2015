{
 "cells": [
  {
   "cell_type": "markdown",
   "metadata": {
    "collapsed": true
   },
   "source": [
    "# Machine Learning"
   ]
  },
  {
   "cell_type": "markdown",
   "metadata": {},
   "source": [
    "## Definition"
   ]
  },
  {
   "cell_type": "markdown",
   "metadata": {},
   "source": [
    "    A computer program is said to learn from experience E with respect to some class of tasks T and performance measure P if its performance at tasks in T, as measured by P, improves with experience E.\n",
    "\n",
    "    - Tom Mitchell"
   ]
  },
  {
   "cell_type": "markdown",
   "metadata": {},
   "source": [
    "## Types of Machine Learning"
   ]
  },
  {
   "cell_type": "markdown",
   "metadata": {},
   "source": [
    "### Supervised Machine Learning"
   ]
  },
  {
   "cell_type": "markdown",
   "metadata": {},
   "source": [
    "* the data comes with a target attribute that we want to predict\n",
    "* there are two types of Supervised Machine Learning problem\n",
    "    - Classification: the target variable is categorical\n",
    "    - Regression: the target variable is numeric\n",
    "* Note: there can be multiple target variables"
   ]
  },
  {
   "cell_type": "markdown",
   "metadata": {},
   "source": [
    "### Unsupervised Machine Learning"
   ]
  },
  {
   "cell_type": "markdown",
   "metadata": {},
   "source": [
    "* the training data consists of a set of input vectors without any corresponding target values\n",
    "* the goal is to explore the structure\n",
    "    - Clustering: discover groups of similar examples within the data\n",
    "    - Density Estimation: determine the distribution of data within the input space\n",
    "    - Dimension Reduction: for example, project the data from a high-dimensional space down to two or three dimensions for the purpose of visualization\n",
    "    - Manifold learning (or nonlinear dimension reduction): Finding a low-dimensional manifold containing the data points"
   ]
  },
  {
   "cell_type": "markdown",
   "metadata": {},
   "source": [
    "## Thinking about Machine Learning"
   ]
  },
  {
   "cell_type": "markdown",
   "metadata": {},
   "source": [
    "### Task\n",
    "\n",
    "* Classification\n",
    "* Regression\n",
    "* Clustering\n",
    "\n",
    "### Learner\n",
    "\n",
    "* Naive Bayes\n",
    "* Linear Regression\n",
    "* Support Vector Machines\n",
    "* Logistic Regression\n",
    "* Random Forest\n",
    "* Gradient Boosting Machines\n",
    "\n",
    "### Performace Measure (from testing set)\n",
    "\n",
    "* RMSE\n",
    "* F1-score\n",
    "\n",
    "### Experience (from training set)\n",
    "\n",
    "* The Training"
   ]
  },
  {
   "cell_type": "markdown",
   "metadata": {},
   "source": [
    "# Other Issues"
   ]
  },
  {
   "cell_type": "markdown",
   "metadata": {},
   "source": [
    "* Dimensionality\n",
    "* Linear Separability\n",
    "* Data Availability (On-line vs Off-line)"
   ]
  }
 ],
 "metadata": {
  "kernelspec": {
   "display_name": "Python 3",
   "language": "python",
   "name": "python3"
  },
  "language_info": {
   "codemirror_mode": {
    "name": "ipython",
    "version": 3
   },
   "file_extension": ".py",
   "mimetype": "text/x-python",
   "name": "python",
   "nbconvert_exporter": "python",
   "pygments_lexer": "ipython3",
   "version": "3.5.1"
  }
 },
 "nbformat": 4,
 "nbformat_minor": 0
}
