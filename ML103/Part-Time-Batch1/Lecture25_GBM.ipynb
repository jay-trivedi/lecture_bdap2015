{
 "cells": [
  {
   "cell_type": "markdown",
   "metadata": {
    "collapsed": true
   },
   "source": [
    "# GBM"
   ]
  },
  {
   "cell_type": "markdown",
   "metadata": {},
   "source": [
    "* Gradient Boosting takes an error-minimization approach to building an ensemble of trees, instead of the variance-reduction approach that Bagging and Random Forest take\n",
    "* Because Gradient Boosting incorporates binary trees as its base learners, it shares some tree-related parameters\n",
    "* However, because Gradient Boosting takes steps directed by the gradient, you’ll also see parameters such as step size\n",
    "* In addition, Gradient Boosting’s error-minimization approach will lead to different rationale and choices for setting tree depth\n",
    "* There’s also a surprise\n",
    "variable that allows you to build models that are a hybrid between Random Forest\n",
    "and Gradient Boosting. You can use Gradient Boosting error-minimization structure\n",
    "while employing the Random Forest random attribute selection for base learners. The\n",
    "sklearn ensemble module is the only place that I’ve seen that combination available."
   ]
  },
  {
   "cell_type": "markdown",
   "metadata": {},
   "source": [
    "    class sklearn.ensemble.GradientBoostingRegressor(\n",
    "        loss='ls', learning_rate=0.1, n_estimators=100, \n",
    "        subsample=1.0, min_samples_split=2, min_samples_leaf=1,\n",
    "        max_depth=3, init=None, random_state=None, max_features=None,\n",
    "        alpha=0.9, verbose=0, max_leaf_nodes=None, warm_start=False)"
   ]
  },
  {
   "cell_type": "markdown",
   "metadata": {},
   "source": []
  },
  {
   "cell_type": "markdown",
   "metadata": {},
   "source": []
  },
  {
   "cell_type": "markdown",
   "metadata": {},
   "source": []
  }
 ],
 "metadata": {
  "kernelspec": {
   "display_name": "Python 3",
   "language": "python",
   "name": "python3"
  },
  "language_info": {
   "codemirror_mode": {
    "name": "ipython",
    "version": 3
   },
   "file_extension": ".py",
   "mimetype": "text/x-python",
   "name": "python",
   "nbconvert_exporter": "python",
   "pygments_lexer": "ipython3",
   "version": "3.5.1"
  }
 },
 "nbformat": 4,
 "nbformat_minor": 0
}
