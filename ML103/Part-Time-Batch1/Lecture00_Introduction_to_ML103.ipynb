{
 "cells": [
  {
   "cell_type": "markdown",
   "metadata": {},
   "source": [
    "# Overview"
   ]
  },
  {
   "cell_type": "markdown",
   "metadata": {},
   "source": [
    "* Day 1: The Basics\n",
    "    - Lecture 01: Python Basics\n",
    "    - Lecture 02: NumPy and SciPy\n",
    "    - Lecture 03: Pandas\n",
    "    - Lecture 04: A Quick Overview of Machine Learning\n",
    "    - Lecture 05: Introduction to sklearn\n",
    "    - Lecture 06: Buiding Pipelines in sklearn\n",
    "    - Lecture 07: Machine Learning Workflow\n",
    "* Day 2: Practical Issues\n",
    "    - Lecture 08: Cross-validation\n",
    "    - Lecture 09: Handling Imbalanced Datasets\n",
    "    - Lecture 10: Feature Engineering\n",
    "    - Lecture 11: Hyperparameter Tuning\n",
    "    - Lecture 12: Ensembling Techniques\n",
    "    - Lecture 13: Selecting an Algorithm\n",
    "    - Lecture 14: Hands-on Example"
   ]
  },
  {
   "cell_type": "markdown",
   "metadata": {},
   "source": [
    "# Evaluation Scheme\n",
    "\n",
    "* Written Assignment: 30%\n",
    "* Final Project: 70%"
   ]
  }
 ],
 "metadata": {
  "kernelspec": {
   "display_name": "Python 3",
   "language": "python",
   "name": "python3"
  },
  "language_info": {
   "codemirror_mode": {
    "name": "ipython",
    "version": 3
   },
   "file_extension": ".py",
   "mimetype": "text/x-python",
   "name": "python",
   "nbconvert_exporter": "python",
   "pygments_lexer": "ipython3",
   "version": "3.5.1"
  }
 },
 "nbformat": 4,
 "nbformat_minor": 0
}
