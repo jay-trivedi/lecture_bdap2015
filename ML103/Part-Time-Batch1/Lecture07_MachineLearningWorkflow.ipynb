{
 "cells": [
  {
   "cell_type": "markdown",
   "metadata": {
    "collapsed": true
   },
   "source": [
    "# Some Observations"
   ]
  },
  {
   "cell_type": "markdown",
   "metadata": {},
   "source": [
    "* Business Understanding is crucial for the success of any Data Mining/Machine Learning project\n",
    "* But we'll not address that here and assume that it has taken place and the business problem has been articulated as a machine learning problem\n",
    "* There are industry standards (CRISP-DM, SEMMA, etc) to standardize the process of Data Mining\n",
    "* The field is moving fast, and creating a replicable workflow will allow you to incorporate more ideas and sophistication into your project"
   ]
  },
  {
   "cell_type": "markdown",
   "metadata": {},
   "source": [
    "* In discussing the typical workflow below, we assume that *Defining the Problem* and *Collecting Data* has already been completed"
   ]
  },
  {
   "cell_type": "markdown",
   "metadata": {},
   "source": [
    "# Typical Workflow"
   ]
  },
  {
   "cell_type": "markdown",
   "metadata": {},
   "source": [
    "1. Data Preprocessing\n",
    "    - Data Exploration\n",
    "        * Statistical Summary\n",
    "        * Univariate Exploration of Data\n",
    "            - Line Plot\n",
    "            - Histogram\n",
    "            - Box Plot\n",
    "        * Multivariate Exploration of Data\n",
    "            - Correlation and Correllograms\n",
    "            - facet plots\n",
    "    - Data Clean-Up\n",
    "        * Imputation of Missing Values\n",
    "            - Univariate methods\n",
    "            - Multivariate methods\n",
    "        * Removing Outliers\n",
    "            - Univariate methods\n",
    "            - Multivariate Supervised methods\n",
    "            - Multivariate Unsupervised methods\n",
    "    - Feature Engineering\n",
    "        * Feature Transformation\n",
    "            * Rescaling\n",
    "                - Normalization\n",
    "                - Standardization\n",
    "            * Algebraic Transformations\n",
    "                - Polynomial\n",
    "                - Exponential and Logarithmic\n",
    "            * Combining Existing Features\n",
    "        * Feature Creation/Extraction\n",
    "            - Recoding\n",
    "                * Calibration\n",
    "                * Categorical to Ordinal/Numeric\n",
    "                    - Hashing Trick\n",
    "                    - One-hot Encoding\n",
    "                * Numeric to Categorical\n",
    "                    - Binarization\n",
    "                    - Discretization\n",
    "            - Brainstorming\n",
    "                * Combining Features\n",
    "                * Applying Domain Expertise\n",
    "            - Feature Space Reengineering\n",
    "                - Dimension Reduction\n",
    "                - Dimension Explosion\n",
    "        * Feature Selection\n",
    "            - Model-based\n",
    "                * Regularization\n",
    "                * Ensemble\n",
    "            - Filter\n",
    "                - Pearson Correlation Coefficient\n",
    "                - Mutual Information\n",
    "                - embedded methods (feature selection is a part of model constructin)\n",
    "            - Wrappers\n",
    "                * Forwards\n",
    "                * Backwrds\n",
    "2. Modeling\n",
    "    * Selecting right Algorithm\n",
    "    * Sampling\n",
    "        - Dealing with Imbalanced Data\n",
    "        - Cross-Validation\n",
    "    * Training\n",
    "    * Ensembling\n",
    "        - Combination\n",
    "            * Voting\n",
    "            * Averaging\n",
    "        - Stacking\n",
    "        - Bagging\n",
    "        - Boosting\n",
    "    * Hyper-parameter Tuning\n",
    "3. Model Assessment"
   ]
  }
 ],
 "metadata": {
  "kernelspec": {
   "display_name": "Python 3",
   "language": "python",
   "name": "python3"
  },
  "language_info": {
   "codemirror_mode": {
    "name": "ipython",
    "version": 3
   },
   "file_extension": ".py",
   "mimetype": "text/x-python",
   "name": "python",
   "nbconvert_exporter": "python",
   "pygments_lexer": "ipython3",
   "version": "3.5.1"
  }
 },
 "nbformat": 4,
 "nbformat_minor": 0
}
