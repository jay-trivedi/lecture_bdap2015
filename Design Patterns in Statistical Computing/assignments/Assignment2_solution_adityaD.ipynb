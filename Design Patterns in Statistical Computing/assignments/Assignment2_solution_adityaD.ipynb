{
 "cells": [
  {
   "cell_type": "markdown",
   "metadata": {},
   "source": [
    "Please fill up the following\n",
    "* Student Name: Aditya Deshmukh\n",
    "* Student ID: 10150104\n",
    "* Student Email ID: aditya101289@gmail.com\n",
    "* Student GitHub Repo URL: https://github.com/azdeshmukh/bdap2015.git"
   ]
  },
  {
   "cell_type": "markdown",
   "metadata": {},
   "source": [
    "# DPSC Assignment 2"
   ]
  },
  {
   "cell_type": "markdown",
   "metadata": {},
   "source": [
    "## Instructions\n",
    "\n",
    "For each of the tasks below, write relevant R code in the cells and execute the cells before submission."
   ]
  },
  {
   "cell_type": "markdown",
   "metadata": {},
   "source": [
    "### Problem 1\n",
    "\n",
    "Consider a digital clock that shows hours and minutes. The day start at 00:00 and ends at 24:00. Assume\n",
    "that the four digits shown in the clock actually is one single number. For example 13:15 is to be interpreted\n",
    "as 1315. How many prime numbers are shown by the digital clock in a day?"
   ]
  },
  {
   "cell_type": "code",
   "execution_count": 3,
   "metadata": {
    "collapsed": false
   },
   "outputs": [
    {
     "data": {
      "text/html": [
       "357"
      ],
      "text/latex": [
       "357"
      ],
      "text/markdown": [
       "357"
      ],
      "text/plain": [
       "[1] 357"
      ]
     },
     "execution_count": 3,
     "metadata": {},
     "output_type": "execute_result"
    }
   ],
   "source": [
    "PrimeNo <- function(x){\n",
    "  for (i in 2:(x-1)){\n",
    "    if (x %% i == 0){\n",
    "      return (FALSE)\n",
    "    }\n",
    "  }\n",
    "  return (TRUE)\n",
    "}\n",
    "\n",
    "clockPrimes <- function(time){\n",
    "  counter <- 1\n",
    " \n",
    "  for (i in 2:time){\n",
    "    if (PrimeNo(i) == TRUE){\n",
    "      counter <- counter + 1\n",
    "    }\n",
    "  }\n",
    "  return (counter)\n",
    "}\n",
    "\n",
    "clockPrimes(2400)"
   ]
  },
  {
   "cell_type": "markdown",
   "metadata": {},
   "source": [
    "### Problem 2\n",
    "\n",
    "Two friends, A & B, meet every evening and play three games of speed-chess. After the three games, the two\n",
    "friends record the outcomes in a file. A sample illustration of the file is given below, for 4 days:\n",
    "\n",
    "game no| day1 | day2 | day3 | day4\n",
    "-------|------|------|------|------\n",
    "game 1 | 1    | 2    | 1    | 2\n",
    "game 2 | 2    | 2    | 1    | 2\n",
    "game 3 | 1    | 1    | 2    | 2\n",
    "\n",
    "\n",
    "* If A wins, the outcome is coded as 1.\n",
    "* If B wins, the outcome is coded as 2.\n",
    "\n",
    "At the end of three games, the person who wins the maximum number (at least 2 out of 3) is deemed the winner of the day. Assume there is never a draw between the two. The outcomes for each day are stored in **assignment2-q2.csv**.\n",
    "\n",
    "Read the datafile in to your workspace and answer the following questions:\n",
    "\n",
    "* For how long have the friends kept a record of their games?\n",
    "* How many days does B become winner of the day?\n",
    "* How many days did the two friends play the third game, despite knowing the winner of day?"
   ]
  },
  {
   "cell_type": "code",
   "execution_count": 6,
   "metadata": {
    "collapsed": false
   },
   "outputs": [
    {
     "name": "stdout",
     "output_type": "stream",
     "text": [
      "[1] \"No. of days for which the friends keep the record:\"\n"
     ]
    },
    {
     "data": {
      "text/html": [
       "500"
      ],
      "text/latex": [
       "500"
      ],
      "text/markdown": [
       "500"
      ],
      "text/plain": [
       "[1] 500"
      ]
     },
     "execution_count": 6,
     "metadata": {},
     "output_type": "execute_result"
    },
    {
     "name": "stdout",
     "output_type": "stream",
     "text": [
      "[1] \"No. of days for which B became winner of the day:\"\n"
     ]
    },
    {
     "data": {
      "text/html": [
       "238"
      ],
      "text/latex": [
       "238"
      ],
      "text/markdown": [
       "238"
      ],
      "text/plain": [
       "[1] 238"
      ]
     },
     "execution_count": 6,
     "metadata": {},
     "output_type": "execute_result"
    },
    {
     "name": "stdout",
     "output_type": "stream",
     "text": [
      "[1] \"No. of days for which the 2 friends played the third game despite knowing the winner of the day:\"\n"
     ]
    },
    {
     "data": {
      "text/html": [
       "375"
      ],
      "text/latex": [
       "375"
      ],
      "text/markdown": [
       "375"
      ],
      "text/plain": [
       "[1] 375"
      ]
     },
     "execution_count": 6,
     "metadata": {},
     "output_type": "execute_result"
    }
   ],
   "source": [
    "data <- read.csv(\"../data/assignment2-q2.csv\", header = T)\n",
    "record <- ncol(data)\n",
    "print(\"No. of days for which the friends keep the record:\")\n",
    "record\n",
    "\n",
    "winner.B <- 0\n",
    "for (i in 1:record){\n",
    "    if (sum(data[,i]) > 4){\n",
    "        winner.B <- winner.B + 1\n",
    "    }\n",
    "}\n",
    "print(\"No. of days for which B became winner of the day:\")\n",
    "winner.B\n",
    "\n",
    "days <- 0 \n",
    "for (i in 1:record){\n",
    "    if(data[1,i] == data[2,i]){\n",
    "        days <- days + 1\n",
    "    }  else if (data[2,i]  == data[3,i]){\n",
    "        days <- days + 1\n",
    "    } else {\n",
    "    }\n",
    "}\n",
    "\n",
    "print(\"No. of days for which the 2 friends played the third game despite knowing the winner of the day:\")\n",
    "days"
   ]
  }
 ],
 "metadata": {
  "kernelspec": {
   "display_name": "R",
   "language": "R",
   "name": "ir"
  },
  "language_info": {
   "codemirror_mode": "r",
   "file_extension": ".r",
   "mimetype": "text/x-r-source",
   "name": "R",
   "pygments_lexer": "r",
   "version": "3.2.2"
  }
 },
 "nbformat": 4,
 "nbformat_minor": 0
}
