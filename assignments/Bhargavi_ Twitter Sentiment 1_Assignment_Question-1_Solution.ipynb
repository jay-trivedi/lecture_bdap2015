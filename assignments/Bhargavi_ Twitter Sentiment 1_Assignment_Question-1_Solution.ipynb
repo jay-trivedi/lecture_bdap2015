{
 "cells": [
  {
   "cell_type": "markdown",
   "metadata": {},
   "source": [
    "# Write a blog post on how to use OR operator for find queries in mongodb."
   ]
  },
  {
   "cell_type": "markdown",
   "metadata": {},
   "source": [
    "OR Query in MongoDB can be done in two ways:\n",
    "\n",
    "1)Using $in, which matches any of the values specified in an array. It can be used to query for a variety of values for \n",
    "  a single key.\n",
    "2)Using $or, which joins query clauses with a logical OR returns all documents that match the conditions of either clause.\n",
    "  It can be used to query for any of the given values across multiple keys.\n",
    "\n",
    "\n",
    "\n",
    "The $or has the following syntax:\n",
    "{ $or: [ { <expression1> }, { <expression2> }, ... , { <expressionN> } ] }\n",
    "\n",
    "Example:\n",
    "db.inventory.find( { $or: [ { quantity: { $lt: 20 } }, { price: 10 } ] } )\n",
    "        This query will select all documents in the inventory collection where either the quantity field value is less than 20 \n",
    "or the price field value equals 10.\n",
    "\n",
    "\n",
    "The $in has the following syntax:\n",
    "{ field: { $in: [<value1>, <value2>, ... <valueN> ] } }\n",
    "\n",
    "Example:\n",
    "db.inventory.find( { qty: { $in: [ 5, 15 ] } } )\n",
    "        This query selects all documents in the inventory collection where the qty field value is either 5 or 15. Although one can express this query using the $or operator, one should choose the $in operator rather than the $or operator when performing equality \n",
    "checks on the same field."
   ]
  }
 ],
 "metadata": {
  "kernelspec": {
   "display_name": "Python 2",
   "language": "python",
   "name": "python2"
  },
  "language_info": {
   "codemirror_mode": {
    "name": "ipython",
    "version": 2
   },
   "file_extension": ".py",
   "mimetype": "text/x-python",
   "name": "python",
   "nbconvert_exporter": "python",
   "pygments_lexer": "ipython2",
   "version": "2.7.11"
  }
 },
 "nbformat": 4,
 "nbformat_minor": 0
}
