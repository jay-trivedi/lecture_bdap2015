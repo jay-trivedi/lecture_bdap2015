{
 "cells": [
  {
   "cell_type": "markdown",
   "metadata": {},
   "source": [
    "# Q3) Crawl all followers of naveen_odisha, Odisha CM (note: you'll have to pay attention to rate limiting)"
   ]
  },
  {
   "cell_type": "code",
   "execution_count": 2,
   "metadata": {
    "collapsed": false
   },
   "outputs": [
    {
     "name": "stdout",
     "output_type": "stream",
     "text": [
      "Getting followers of naveen_odisha:\n",
      "Name :  Subhedubeher20 \t\t No.of tweets :  0\n",
      "Name :  nishata70153141 \t\t No.of tweets :  0\n",
      "Name :  babunimohapatr \t\t No.of tweets :  0\n",
      "Name :  mishalpattnayak \t\t No.of tweets :  0\n",
      "Name :  SandeepRoulBapu \t\t No.of tweets :  2\n",
      "Name :  kanu_roy \t\t No.of tweets :  368\n",
      "Name :  Sunilsethi14059 \t\t No.of tweets :  7\n",
      "Name :  rabindr95559857 \t\t No.of tweets :  0\n",
      "Name :  RameshP76207981 \t\t No.of tweets :  1\n",
      "Name :  GANESHKUMAR2601 \t\t No.of tweets :  0\n"
     ]
    }
   ],
   "source": [
    "import tweepy\n",
    "import time\n",
    "\n",
    "TWITTER_CONSUMER_KEY = \"LsEFjnM2sH6HJmXMfSj0z21OH\"\n",
    "TWITTER_CONSUMER_SECRET = \"HOnfLgJDfnA1m2dyem1THUorpYFsHE2BGzS6IFenbVboHKFArE\"\n",
    "TWITTER_ACCESS_TOKEN = \"4445875228-39Rv7h0FvDbv3XuMpiQliO3HcO2HrL2ZokovxPi\"\n",
    "TWITTER_ACCESS_TOKEN_SECRET = \"RMdIGwd4CZams3CZsflh2DOpk6ACoxA1UFB70KH47fzZG\"\n",
    "\n",
    "\n",
    "if __name__ == '__main__':\n",
    "    # Create authentication token\n",
    "    auth = tweepy.OAuthHandler(TWITTER_CONSUMER_KEY,TWITTER_CONSUMER_SECRET)\n",
    "    auth.set_access_token(TWITTER_ACCESS_TOKEN,TWITTER_ACCESS_TOKEN_SECRET)\n",
    "\n",
    "    api = tweepy.API(auth)\n",
    "\n",
    "    print 'Getting followers of naveen_odisha:'\n",
    "\n",
    "#data = api.get_user('naveen_odisha')\n",
    "#print 'Followers:\\n ' + str(data.get_user(id))\n",
    "\n",
    "for user in tweepy.Cursor(api.followers, screen_name=\"naveen_odisha\").items(10):\n",
    "    try:\n",
    "        print \"Name : \",user.screen_name,\"\\t\\t No.of tweets : \",user.statuses_count\n",
    "    except tweepy.TweepError, e:\n",
    "        if e == \"[{u'message': u'Rate limit exceeded', u'code': 88}]\":\n",
    "            time.sleep(60*20) #Sleep for 20 minutes\n",
    "        else:\n",
    "            print e\n"
   ]
  },
  {
   "cell_type": "code",
   "execution_count": null,
   "metadata": {
    "collapsed": true
   },
   "outputs": [],
   "source": []
  }
 ],
 "metadata": {
  "kernelspec": {
   "display_name": "Python 2",
   "language": "python",
   "name": "python2"
  },
  "language_info": {
   "codemirror_mode": {
    "name": "ipython",
    "version": 2
   },
   "file_extension": ".py",
   "mimetype": "text/x-python",
   "name": "python",
   "nbconvert_exporter": "python",
   "pygments_lexer": "ipython2",
   "version": "2.7.11"
  }
 },
 "nbformat": 4,
 "nbformat_minor": 0
}
