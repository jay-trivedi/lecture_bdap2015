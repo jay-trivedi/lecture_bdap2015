{
 "cells": [
  {
   "cell_type": "markdown",
   "metadata": {},
   "source": [
    "# Q5) Predict the sentiment of tweets by followers of naveen_odisha"
   ]
  },
  {
   "cell_type": "code",
   "execution_count": null,
   "metadata": {
    "collapsed": false
   },
   "outputs": [],
   "source": [
    "import TwitterSearch\n",
    "from TwitterSearch import *\n",
    "\n",
    "try:\n",
    "    tuo = TwitterUserOrder('naveen_odisha') # create a TwitterUserOrder\n",
    "\n",
    "    # it's about time to create TwitterSearch object again\n",
    "    ts = TwitterSearch(\n",
    "        consumer_key = \"LsEFjnM2sH6HJmXMfSj0z21OH\",\n",
    "        consumer_secret = \"HOnfLgJDfnA1m2dyem1THUorpYFsHE2BGzS6IFenbVboHKFArE\",\n",
    "        access_token = \"4445875228-39Rv7h0FvDbv3XuMpiQliO3HcO2HrL2ZokovxPi\",\n",
    "        access_token_secret = \"RMdIGwd4CZams3CZsflh2DOpk6ACoxA1UFB70KH47fzZG\"\n",
    "    )\n",
    "\n",
    "    # start asking Twitter about the timeline\n",
    "    for tweet in ts.search_tweets_iterable(tuo):\n",
    "        print( '@%s tweeted: %s' % ( tweet['user']['screen_name'], tweet['text'] ) )\n",
    "\n",
    "except TwitterSearchException as e: # catch all those ugly errors\n",
    "    print(e)"
   ]
  },
  {
   "cell_type": "code",
   "execution_count": null,
   "metadata": {
    "collapsed": false
   },
   "outputs": [
    {
     "name": "stdout",
     "output_type": "stream",
     "text": [
      "401\n",
      "401\n",
      "401\n",
      "401\n",
      "401\n",
      "401\n",
      "401\n",
      "401\n",
      "401\n",
      "401"
     ]
    }
   ],
   "source": [
    "import json\n",
    "from tweepy.streaming import StreamListener\n",
    "from tweepy import OAuthHandler\n",
    "from tweepy import Stream\n",
    "from textblob import TextBlob\n",
    "from elasticsearch import Elasticsearch\n",
    "\n",
    "# import twitter keys and tokens\n",
    "from config import *\n",
    "\n",
    "# create instance of elasticsearch\n",
    "es = Elasticsearch()\n",
    "\n",
    "\n",
    "class TweetStreamListener(StreamListener):\n",
    "\n",
    "    # on success\n",
    "    def on_data(self, data):\n",
    "\n",
    "        # decode json\n",
    "        dict_data = json.loads(data)\n",
    "\n",
    "        # pass tweet into TextBlob\n",
    "        tweet = TextBlob(dict_data[\"text\"])\n",
    "\n",
    "        # output sentiment polarity\n",
    "        print tweet.sentiment.polarity\n",
    "\n",
    "        # determine if sentiment is positive, negative, or neutral\n",
    "        if tweet.sentiment.polarity < 0:\n",
    "            sentiment = \"negative\"\n",
    "        elif tweet.sentiment.polarity == 0:\n",
    "            sentiment = \"neutral\"\n",
    "        else:\n",
    "            sentiment = \"positive\"\n",
    "\n",
    "        # output sentiment\n",
    "        print sentiment\n",
    "\n",
    "        # add text and sentiment info to elasticsearch\n",
    "        es.index(index=\"sentiment\",\n",
    "                 doc_type=\"test-type\",\n",
    "                 body={\"author\": dict_data[\"user\"][\"screen_name\"],\n",
    "                       \"date\": dict_data[\"created_at\"],\n",
    "                       \"message\": dict_data[\"text\"],\n",
    "                       \"polarity\": tweet.sentiment.polarity,\n",
    "                       \"subjectivity\": tweet.sentiment.subjectivity,\n",
    "                       \"sentiment\": sentiment})\n",
    "        return True\n",
    "\n",
    "    # on failure\n",
    "    def on_error(self, status):\n",
    "        print status\n",
    "\n",
    "if __name__ == '__main__':\n",
    "\n",
    "    # create instance of the tweepy tweet stream listener\n",
    "    listener = TweetStreamListener()\n",
    "\n",
    "    # set twitter keys/tokens\n",
    "    auth = OAuthHandler(\"LsEFjnM2sH6HJmXMfSj0z21OH\", \"HOnfLgJDfnA1m2dyem1THUorpYFsHE2BGzS6IFenbVboHKFArE\")\n",
    "    auth.set_access_token(\"4445875228-39Rv7h0FvDbv3XuMpiQliO3HcO2HrL2ZokovxPi\",\"RMdIGwd4CZams3CZsflh2DOpk6ACoxA1UFB70KH47fzZG\")\n",
    "\n",
    "    # create instance of the tweepy stream\n",
    "    stream = Stream(auth, listener)\n",
    "\n",
    "    # search twitter for \"congress\" keyword\n",
    "    stream.filter(track=['naveen_odisha'])"
   ]
  },
  {
   "cell_type": "code",
   "execution_count": null,
   "metadata": {
    "collapsed": true
   },
   "outputs": [],
   "source": [
    "import time\n",
    "from tweepy import Stream\n",
    "from tweepy import OAuthHandler\n",
    "from tweepy.streaming import StreamListener\n",
    "import os"
   ]
  }
 ],
 "metadata": {
  "kernelspec": {
   "display_name": "Python 2",
   "language": "python",
   "name": "python2"
  },
  "language_info": {
   "codemirror_mode": {
    "name": "ipython",
    "version": 2
   },
   "file_extension": ".py",
   "mimetype": "text/x-python",
   "name": "python",
   "nbconvert_exporter": "python",
   "pygments_lexer": "ipython2",
   "version": "2.7.11"
  }
 },
 "nbformat": 4,
 "nbformat_minor": 0
}
