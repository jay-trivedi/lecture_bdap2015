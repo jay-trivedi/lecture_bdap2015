{
 "cells": [
  {
   "cell_type": "code",
   "execution_count": 1,
   "metadata": {
    "collapsed": false
   },
   "outputs": [],
   "source": [
    "import os\n",
    "TWITTER_CONSUMER_KEY=os.environ[\"TWITTER_CONSUMER_KEY\"]\n",
    "TWITTER_CONSUMER_SECRET=os.environ[\"TWITTER_CONSUMER_SECRET\"]\n",
    "TWITTER_ACCESS_TOKEN=os.environ[\"TWITTER_ACCESS_TOKEN\"]\n",
    "TWITTER_ACCESS_TOKEN_SECRET=os.environ[\"TWITTER_ACCESS_TOKEN_SECRET\"]\n",
    "\n",
    "from twython import Twython\n",
    "twitter = Twython(TWITTER_CONSUMER_KEY,TWITTER_CONSUMER_SECRET,TWITTER_ACCESS_TOKEN,TWITTER_ACCESS_TOKEN_SECRET)\n"
   ]
  },
  {
   "cell_type": "code",
   "execution_count": 2,
   "metadata": {
    "collapsed": false
   },
   "outputs": [
    {
     "name": "stdout",
     "output_type": "stream",
     "text": [
      " user: KotadiyaAjay4 \n",
      " name: Kotadiya Ajay \n",
      " Number of tweets: 0 \n",
      "\n",
      " user: sharanu69444976 \n",
      " name: sharanu \n",
      " Number of tweets: 0 \n",
      "\n",
      " user: mayang_mayely \n",
      " name: mayang \n",
      " Number of tweets: 0 \n",
      "\n",
      " user: budhamilanisti \n",
      " name: Made Buda \n",
      " Number of tweets: 0 \n",
      "\n",
      " user: amit_connect \n",
      " name: Amit Prabhakar \n",
      " Number of tweets: 0 \n",
      "\n",
      " user: windsblow15 \n",
      " name: Winds Blow \n",
      " Number of tweets: 0 \n",
      "\n",
      " user: rathod_dip \n",
      " name: Dip Rathod \n",
      " Number of tweets: 0 \n",
      "\n",
      " user: GKGANESH55 \n",
      " name: GK GANESH KUMAR \n",
      " Number of tweets: 0 \n",
      "\n",
      " user: ramlalmeena4875 \n",
      " name: ramlalmeena \n",
      " Number of tweets: 0 \n",
      "\n",
      " user: JoyDakua \n",
      " name: IamAlwsJoy \n",
      " Number of tweets: 0 \n",
      "\n",
      " user: tariq8668988 \n",
      " name: tariqawan \n",
      " Number of tweets: 0 \n",
      "\n",
      " user: RidwansyahAdhi \n",
      " name: Adhi Ridwansyah \n",
      " Number of tweets: 2 \n",
      "\n"
     ]
    },
    {
     "ename": "UnicodeEncodeError",
     "evalue": "'ascii' codec can't encode characters in position 0-5: ordinal not in range(128)",
     "output_type": "error",
     "traceback": [
      "\u001b[1;31m---------------------------------------------------------------------------\u001b[0m",
      "\u001b[1;31mUnicodeEncodeError\u001b[0m                        Traceback (most recent call last)",
      "\u001b[1;32m<ipython-input-2-80eca682cc47>\u001b[0m in \u001b[0;36m<module>\u001b[1;34m()\u001b[0m\n\u001b[0;32m      2\u001b[0m \u001b[1;33m\u001b[0m\u001b[0m\n\u001b[0;32m      3\u001b[0m \u001b[1;32mfor\u001b[0m \u001b[0mfollower\u001b[0m \u001b[1;32min\u001b[0m \u001b[0mfollowers\u001b[0m\u001b[1;33m[\u001b[0m\u001b[1;34m\"users\"\u001b[0m\u001b[1;33m]\u001b[0m\u001b[1;33m:\u001b[0m\u001b[1;33m\u001b[0m\u001b[0m\n\u001b[1;32m----> 4\u001b[1;33m     \u001b[1;32mprint\u001b[0m\u001b[1;33m(\u001b[0m\u001b[1;34m\" user: {0} \\n name: {1} \\n Number of tweets: {2} \\n\"\u001b[0m\u001b[1;33m.\u001b[0m\u001b[0mformat\u001b[0m\u001b[1;33m(\u001b[0m\u001b[0mfollower\u001b[0m\u001b[1;33m[\u001b[0m\u001b[1;34m\"screen_name\"\u001b[0m\u001b[1;33m]\u001b[0m\u001b[1;33m,\u001b[0m\u001b[0mfollower\u001b[0m\u001b[1;33m[\u001b[0m\u001b[1;34m\"name\"\u001b[0m\u001b[1;33m]\u001b[0m\u001b[1;33m,\u001b[0m\u001b[0mfollower\u001b[0m\u001b[1;33m[\u001b[0m\u001b[1;34m\"statuses_count\"\u001b[0m\u001b[1;33m]\u001b[0m\u001b[1;33m)\u001b[0m\u001b[1;33m)\u001b[0m\u001b[1;33m\u001b[0m\u001b[0m\n\u001b[0m",
      "\u001b[1;31mUnicodeEncodeError\u001b[0m: 'ascii' codec can't encode characters in position 0-5: ordinal not in range(128)"
     ]
    }
   ],
   "source": [
    "followers = twitter.get_followers_list(screen_name=\"iamsrk\")\n",
    "\n",
    "for follower in followers[\"users\"]:\n",
    "    print(\" user: {0} \\n name: {1} \\n Number of tweets: {2} \\n\".format(follower[\"screen_name\"],follower[\"name\"],follower[\"statuses_count\"]))\n"
   ]
  },
  {
   "cell_type": "code",
   "execution_count": 3,
   "metadata": {
    "collapsed": false
   },
   "outputs": [
    {
     "name": "stdout",
     "output_type": "stream",
     "text": [
      " user: bikashdey2142 \n",
      " name: Bikash Dey \n",
      " Number of tweets: 0 \n",
      "\n",
      " user: BiswajeetRoutr2 \n",
      " name: Biswajeet Routray \n",
      " Number of tweets: 0 \n",
      "\n",
      " user: MdQayamUddin8 \n",
      " name: Md Qayam Uddin \n",
      " Number of tweets: 0 \n",
      "\n",
      " user: manojparida_jsg \n",
      " name: Manoj Kumar Parida \n",
      " Number of tweets: 198 \n",
      "\n",
      " user: maharigobinda1 \n",
      " name: mahari gobinda \n",
      " Number of tweets: 0 \n",
      "\n",
      " user: satyabratswain5 \n",
      " name: Satyabrat Swain \n",
      " Number of tweets: 0 \n",
      "\n",
      " user: rohitsaboo90 \n",
      " name: ROHIT SABOO \n",
      " Number of tweets: 1946 \n",
      "\n",
      " user: chandan15939337 \n",
      " name: chandan bhandari \n",
      " Number of tweets: 0 \n",
      "\n",
      " user: Ashis97 \n",
      " name: Ashis Kumar Mohanty \n",
      " Number of tweets: 25 \n",
      "\n",
      " user: swarupasahu36 \n",
      " name: SwArupA RaNi \n",
      " Number of tweets: 0 \n",
      "\n",
      " user: Bibhuwinner \n",
      " name: B.k.Tripathy \n",
      " Number of tweets: 46 \n",
      "\n",
      " user: pramilasethi \n",
      " name: pradeepdas \n",
      " Number of tweets: 0 \n",
      "\n",
      " user: SkSamiruddin16 \n",
      " name: Sk Samiruddin \n",
      " Number of tweets: 0 \n",
      "\n",
      " user: soumyajeet1992 \n",
      " name: Soumya J. Patra \n",
      " Number of tweets: 1 \n",
      "\n",
      " user: rubull21 \n",
      " name: Prabhupritam Lenka \n",
      " Number of tweets: 0 \n",
      "\n",
      " user: amritpatanaik \n",
      " name: Amrit Pattanayak \n",
      " Number of tweets: 0 \n",
      "\n",
      " user: monalisha7923 \n",
      " name: monalisha sahoo \n",
      " Number of tweets: 0 \n",
      "\n",
      " user: Rajat15369204 \n",
      " name: Rajat \n",
      " Number of tweets: 2 \n",
      "\n",
      " user: AnubhavBiswal1 \n",
      " name: Anubhav Biswal \n",
      " Number of tweets: 1 \n",
      "\n",
      " user: Basant111 \n",
      " name: Basant kumar \n",
      " Number of tweets: 0 \n",
      "\n"
     ]
    }
   ],
   "source": [
    "#Followers of Naveen Odisha\n",
    "followers = twitter.get_followers_list(screen_name=\"naveen_odisha\")\n",
    "\n",
    "for follower in followers[\"users\"]:\n",
    "    print(\" user: {0} \\n name: {1} \\n Number of tweets: {2} \\n\".format(follower[\"screen_name\"],follower[\"name\"],follower[\"statuses_count\"]))\n",
    "    \n"
   ]
  },
  {
   "cell_type": "code",
   "execution_count": 6,
   "metadata": {
    "collapsed": false
   },
   "outputs": [
    {
     "name": "stdout",
     "output_type": "stream",
     "text": [
      "showing info http://www.nltk.org/nltk_data/\n"
     ]
    },
    {
     "data": {
      "text/plain": [
       "True"
      ]
     },
     "execution_count": 6,
     "metadata": {},
     "output_type": "execute_result"
    }
   ],
   "source": [
    "import nltk\n",
    "#nltk.download() # Models > punkt\n"
   ]
  },
  {
   "cell_type": "code",
   "execution_count": 7,
   "metadata": {
    "collapsed": false
   },
   "outputs": [],
   "source": [
    "#Feed negative and positive tweets to the classification function for training. (using the Sentiment140 dataset)\n",
    "import csv\n",
    "negative_tweets=[]\n",
    "positive_tweets=[]\n",
    "tweets = []\n",
    "\n",
    "sentfile=open(\"/home/vidyashree/Documents/test-sent.csv\")\n",
    "tweetfile=csv.reader(sentfile)\n",
    "\n",
    "for row in tweetfile:\n",
    "    if(row[1]=='0'):\n",
    "        positive_tweets.append((row[3],'positive'))\n",
    "    if(row[1]=='1'):\n",
    "        negative_tweets.append((row[3],'negative'))\n",
    "\n",
    "for (words, sentiment) in negative_tweets + positive_tweets:\n",
    "    words_filtered = [e.lower() for e in words.split() if len(e) >= 3]\n",
    "    tweets.append((words_filtered, sentiment))        \n",
    "        "
   ]
  },
  {
   "cell_type": "code",
   "execution_count": 8,
   "metadata": {
    "collapsed": false
   },
   "outputs": [],
   "source": [
    "def get_words_in_tweets(tweets):\n",
    "    all_words = []\n",
    "    for (words, sentiment) in tweets:\n",
    "\t      all_words.extend(words)\n",
    "    return all_words\n",
    "\n",
    "def get_word_features(wordlist):\n",
    "    wordlist = nltk.FreqDist(wordlist)\n",
    "    word_features = wordlist.keys()\n",
    "    return word_features\n",
    "\n",
    "word_features = get_word_features(get_words_in_tweets(tweets))\n",
    "\n",
    "def extract_features(document):\n",
    "\tdocument_words = set(document)\n",
    "    \tfeatures = {}\n",
    "        for word in word_features:\n",
    "\t        features['contains(%s)' % word] = (word in document_words)\n",
    "        return features\n",
    "\n",
    "training_set = nltk.classify.apply_features(extract_features, tweets)\n",
    "classifier = nltk.NaiveBayesClassifier.train(training_set)\n"
   ]
  },
  {
   "cell_type": "code",
   "execution_count": 9,
   "metadata": {
    "collapsed": false
   },
   "outputs": [
    {
     "name": "stdout",
     "output_type": "stream",
     "text": [
      "Tweet: RT @lubuiaf: @Naveen_Odisha  @PandaJay  sir It's high time..we need to stand strong and manage puri temple properly https://t.co/aPcP0H92wf \n",
      " Sentiment: positive\n",
      "Tweet: @bjd_odisha  we r congratulation to sri Naveen Pattnaik Ji and farmer of odisha to production of agricultural items. .. \n",
      " Sentiment: positive\n",
      "Tweet: @Naveen_Odisha Old Inds.(Govt. &amp; Pvt.) Which have Been Closed Need 2 B Revived ASAP. More Inds. need 2 B set up in our state \n",
      " Sentiment: positive\n",
      "Tweet: @Naveen_Odisha Experienced Members of BJD Value a Lot 2 the Party 2 Defend the Opponents &amp; Hence Need 2 B Well Taken Care of along with New \n",
      " Sentiment: positive\n",
      "Tweet: @Naveen_Odisha We R Proud 2 have U as Our CM Sir. Truly a Great leader &amp; Knows it Very Well, How 2 Carry Along with Everyone on Ur BJD Party \n",
      " Sentiment: positive\n"
     ]
    },
    {
     "ename": "UnicodeEncodeError",
     "evalue": "'ascii' codec can't encode character u'\\u2026' in position 139: ordinal not in range(128)",
     "output_type": "error",
     "traceback": [
      "\u001b[1;31m---------------------------------------------------------------------------\u001b[0m",
      "\u001b[1;31mUnicodeEncodeError\u001b[0m                        Traceback (most recent call last)",
      "\u001b[1;32m<ipython-input-9-2120291abeed>\u001b[0m in \u001b[0;36m<module>\u001b[1;34m()\u001b[0m\n\u001b[0;32m      3\u001b[0m \u001b[1;32mfor\u001b[0m \u001b[0mstatus\u001b[0m \u001b[1;32min\u001b[0m \u001b[0mresult\u001b[0m\u001b[1;33m[\u001b[0m\u001b[1;34m\"statuses\"\u001b[0m\u001b[1;33m]\u001b[0m\u001b[1;33m:\u001b[0m\u001b[1;33m\u001b[0m\u001b[0m\n\u001b[0;32m      4\u001b[0m     print(\"Tweet: {0} \\n Sentiment: {1}\".format(status[\"text\"], \n\u001b[1;32m----> 5\u001b[1;33m                                                 classifier.classify(extract_features(status[\"text\"].split()))))\n\u001b[0m",
      "\u001b[1;31mUnicodeEncodeError\u001b[0m: 'ascii' codec can't encode character u'\\u2026' in position 139: ordinal not in range(128)"
     ]
    }
   ],
   "source": [
    "result= twitter.search(q=\"naveen_odisha\")\n",
    "\n",
    "for status in result[\"statuses\"]:\n",
    "    print(\"Tweet: {0} \\n Sentiment: {1}\".format(status[\"text\"], \n",
    "                                                classifier.classify(extract_features(status[\"text\"].split()))))"
   ]
  }
 ],
 "metadata": {
  "kernelspec": {
   "display_name": "Python 2",
   "language": "python",
   "name": "python2"
  },
  "language_info": {
   "codemirror_mode": {
    "name": "ipython",
    "version": 2
   },
   "file_extension": ".py",
   "mimetype": "text/x-python",
   "name": "python",
   "nbconvert_exporter": "python",
   "pygments_lexer": "ipython2",
   "version": "2.7.11"
  }
 },
 "nbformat": 4,
 "nbformat_minor": 0
}
