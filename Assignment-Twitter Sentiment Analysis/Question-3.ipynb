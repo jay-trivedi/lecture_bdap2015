{
 "cells": [
  {
   "cell_type": "markdown",
   "metadata": {},
   "source": [
    "# Ques.3 Crawl all followers of naveen_odisha,Odisha CM (note: you will have to pay attention to rate limiting)"
   ]
  },
  {
   "cell_type": "code",
   "execution_count": 5,
   "metadata": {
    "collapsed": false
   },
   "outputs": [
    {
     "name": "stdout",
     "output_type": "stream",
     "text": [
      "User: mishalpattnayak \t\t Name: mishal pattanayak \t\t Number of tweets: 0\n",
      "User: SandeepRoulBapu \t\t Name: Sandeep Roul \t\t Number of tweets: 2\n",
      "User: kanu_roy \t\t Name: KANU ROY \t\t Number of tweets: 368\n",
      "User: Sunilsethi14059 \t\t Name: Sunil sethi \t\t Number of tweets: 7\n",
      "User: rabindr95559857 \t\t Name: Rabindra Behera \t\t Number of tweets: 0\n",
      "User: RameshP76207981 \t\t Name: Ramesh Pradhan \t\t Number of tweets: 1\n",
      "User: GANESHKUMAR2601 \t\t Name: GANESH KUMAR \t\t Number of tweets: 0\n",
      "User: SRIDEVIDASH4 \t\t Name: SRIDEVI DASH \t\t Number of tweets: 0\n",
      "User: susantswain98 \t\t Name: Susant Swain \t\t Number of tweets: 0\n",
      "User: rranjanji6969 \t\t Name: rajesh ranjan \t\t Number of tweets: 1\n",
      "User: basa051 \t\t Name: BASANTA DAS \t\t Number of tweets: 0\n",
      "User: bssamal19951 \t\t Name: Bikash  samal \t\t Number of tweets: 20\n",
      "User: SbiswalMbe \t\t Name: Santosh Biswal \t\t Number of tweets: 0\n",
      "User: biswanathsamal2 \t\t Name: biswanathsamal \t\t Number of tweets: 8\n",
      "User: chirangrp5 \t\t Name: chiranjeevi group \t\t Number of tweets: 1\n",
      "User: JenaSrinibash \t\t Name: Srinibash Jena \t\t Number of tweets: 0\n",
      "User: karanbhasin95 \t\t Name: Karan Bhasin \t\t Number of tweets: 646\n",
      "User: aswiniriku08 \t\t Name: Aswini Kumar patnaik \t\t Number of tweets: 0\n",
      "User: soumyasaira1 \t\t Name: SOUMYA RANJAN RANA \t\t Number of tweets: 0\n",
      "User: rakesh7517 \t\t Name: RAKESH DAS \t\t Number of tweets: 2\n",
      "User: RAJESRANA1 \t\t Name: RAJES RANA \t\t Number of tweets: 1\n",
      "User: arunkumarram112 \t\t Name: chandan kumar ram \t\t Number of tweets: 1\n",
      "User: sunitab85002704 \t\t Name: sunitabehera \t\t Number of tweets: 2\n",
      "User: knswain1 \t\t Name: kartika narayan swai \t\t Number of tweets: 0\n",
      "User: Sumantef \t\t Name: Dr Sumant Swain \t\t Number of tweets: 58\n",
      "User: RajeshPuntia \t\t Name: Rajesh \t\t Number of tweets: 0\n",
      "User: adityan70479780 \t\t Name: Aditya Narayan \t\t Number of tweets: 6\n",
      "User: Achyutrateria \t\t Name: Achyut Rateria \t\t Number of tweets: 0\n",
      "User: AbhiChodhury \t\t Name: abhi chodhury \t\t Number of tweets: 0\n",
      "User: jyotiarati \t\t Name: jyotiprakash biswal \t\t Number of tweets: 0\n",
      "User: AmitBeh73535493 \t\t Name: Amit Behera \t\t Number of tweets: 0\n",
      "User: Bapi_807 \t\t Name: Prabir Kumar \t\t Number of tweets: 0\n",
      "User: subhalaxmibehe7 \t\t Name: Subhalaxmi Behera \t\t Number of tweets: 0\n",
      "User: Swagatika00 \t\t Name: Swagatika \t\t Number of tweets: 0\n",
      "User: susantakumarle5 \t\t Name: susantakumarlenka \t\t Number of tweets: 0\n",
      "User: BBLBikasParisad \t\t Name: BarbilBikashParishad \t\t Number of tweets: 4\n",
      "User: Stingidea \t\t Name: stingidea \t\t Number of tweets: 45\n",
      "User: sadanandARPS94 \t\t Name: sadanand thakur \t\t Number of tweets: 1\n",
      "User: aajoshi0607 \t\t Name: Aayush Joshi \t\t Number of tweets: 572\n",
      "User: nayak_sanam \t\t Name: Sanam nayak \t\t Number of tweets: 0\n",
      "User: GandharbaBhatt2 \t\t Name: Gandharba Bhatta \t\t Number of tweets: 0\n",
      "User: Rajesh__Sen \t\t Name: RAJESH \t\t Number of tweets: 241\n",
      "User: Anil94287096 \t\t Name: Anil \t\t Number of tweets: 2\n",
      "User: ani50483697 \t\t Name: anish roy \t\t Number of tweets: 0\n",
      "User: ravibengal \t\t Name: Ravichandran \t\t Number of tweets: 0\n",
      "User: s182kuma \t\t Name: Sushil Yadav \t\t Number of tweets: 28\n",
      "User: karanhansdah24 \t\t Name: karanhansdah24@gmail \t\t Number of tweets: 0\n",
      "User: rojalinpanda12 \t\t Name: rojalin panda \t\t Number of tweets: 2\n",
      "User: gur_bidhan \t\t Name: Bidhan kumar gur \t\t Number of tweets: 0\n",
      "User: pragya2709 \t\t Name: pragya \t\t Number of tweets: 0\n"
     ]
    }
   ],
   "source": [
    "import tweepy\n",
    "import time\n",
    "\n",
    "TWITTER_CONSUMER_KEY = 'Consumer Key'\n",
    "TWITTER_CONSUMER_SECRET = 'Consumer Secret'\n",
    "TWITTER_ACCESS_TOKEN = 'Access Token'\n",
    "TWITTER_ACCESS_TOKEN_SECRET = 'Access Token Secret'\n",
    "\n",
    "\n",
    "if __name__ == '__main__':\n",
    "\n",
    "    #This handles Twitter authetification and the connection to Twitter Streaming API\n",
    "    \n",
    "    auth = tweepy.OAuthHandler(TWITTER_CONSUMER_KEY, TWITTER_CONSUMER_SECRET)\n",
    "    auth.set_access_token(TWITTER_ACCESS_TOKEN,TWITTER_ACCESS_TOKEN_SECRET)\n",
    "    \n",
    "    api = tweepy.API(auth)\n",
    "#user=api.get_user('naveen_odisha')\n",
    "#print 'followers' + str(user.followers_ids)\n",
    "\n",
    "\n",
    "for user in tweepy.Cursor(api.followers, screen_name='naveen_odisha').items(50):\n",
    "        try:\n",
    "            print(\"User: {0} \\t\\t Name: {1} \\t\\t Number of tweets: {2}\".format(user.screen_name.encode(\"utf-8\"), \n",
    "                                                                          user.name.encode(\"utf-8\"), \n",
    "                                                                      user.statuses_count))\n",
    "        except tweepy.TweepError,e:\n",
    "            if e == \"[{u'message': u'Rate limit exceeded',u'code':88}]\":\n",
    "                 time.sleep(15 * 60 )\n",
    "            else:\n",
    "                print e\n",
    "           \n",
    "           "
   ]
  },
  {
   "cell_type": "code",
   "execution_count": null,
   "metadata": {
    "collapsed": true
   },
   "outputs": [],
   "source": []
  }
 ],
 "metadata": {
  "kernelspec": {
   "display_name": "Python 2",
   "language": "python",
   "name": "python2"
  },
  "language_info": {
   "codemirror_mode": {
    "name": "ipython",
    "version": 2
   },
   "file_extension": ".py",
   "mimetype": "text/x-python",
   "name": "python",
   "nbconvert_exporter": "python",
   "pygments_lexer": "ipython2",
   "version": "2.7.11"
  }
 },
 "nbformat": 4,
 "nbformat_minor": 0
}
