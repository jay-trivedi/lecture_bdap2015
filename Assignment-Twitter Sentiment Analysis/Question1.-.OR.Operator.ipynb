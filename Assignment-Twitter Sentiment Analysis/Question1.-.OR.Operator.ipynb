{
 "cells": [
  {
   "cell_type": "markdown",
   "metadata": {},
   "source": [
    "# Ques.1  Write a blog post on how to use OR operator for find queries in mongodb."
   ]
  },
  {
   "cell_type": "markdown",
   "metadata": {},
   "source": [
    "Querying with OR Operator in MongoDB\n",
    "\n",
    "\n",
    "OR Operator can be used to query for any of the given values across multiple keys. $or takes an array of possible criteria and is used for conditional querying.\n",
    "Here using or operator, we need to find documents where “ticket no.” is 725 or “winner” is true.\n",
    "\n",
    "db.raffle.find({\"$or\" : [{\"ticket_no\" : 725}, {\"winner\" : true}]})\n",
    " “$or” can contain another conditionals e.g. if we want to match any of the three\n",
    "\"ticket_no\" values or the \"winner\" key, we can use this:\n",
    "\n",
    " db.raffle.find({\"$or\" : [{\"ticket_no\" : {\"$in\" : [725, 542, 390]}}, {\"winner\" : true}]})\n",
    "\n",
    "OR-type queries are the most efficient if the first arguments match as many documents as possible.\n",
    "The $or operator performs a logical OR operation on an array of two or more expressions and selects the documents that satisfy at least one of the expressions.\n",
    "\n",
    "$or clauses and indexes\n",
    "When evaluating the clauses in the $or expression, MongoDB either performs a collection scan or, if all the clauses are supported by indexes, MongoDB performs index scans. For MongoDB to use indexes to evaluate an $or expression, all the clauses in the $or expression must be supported by indexes. Otherwise, MongoDB will perform a collection scan. When using indexes with $or queries, each clause of an $or can use its own index. \n",
    "\n",
    "db.inventory.find ({ $or : [{ quantity :{ $lt :20 }} ,{price : 10 }]}]\n",
    "\n",
    "To support this query, rather than a compound index, you would create one index on quantity and another index on price:\n",
    "\n",
    "db.inventory.createIndex ({quantity :1 })\n",
    "db.inventory.createIndex ({price :1 })\n",
    "\n",
    "$or and Text  Queries\n",
    "If $or includes a $text query, all clauses in the $or array must be supported by an index. This is because a $text query must use an index and $or can only use indexes if all its clauses are supported by indexes. If the $text query cannot use an index, the query will return an error.\n",
    "\n",
    "$or and GeoSpatial Queries\n",
    "$or supports geospatial clauses with the following exception for the near clause (near clause includes $nearSphere and $near). $or cannot contain a near clause with any other clause.\n",
    "\n",
    "$or and Sort Operations\n",
    "When executing $or queries with a sort(), MongoDB can now use indexes that support the $or clauses. \n",
    "\n",
    "\n",
    "\n",
    "\n"
   ]
  }
 ],
 "metadata": {
  "kernelspec": {
   "display_name": "Python 2",
   "language": "python",
   "name": "python2"
  },
  "language_info": {
   "codemirror_mode": {
    "name": "ipython",
    "version": 2
   },
   "file_extension": ".py",
   "mimetype": "text/x-python",
   "name": "python",
   "nbconvert_exporter": "python",
   "pygments_lexer": "ipython2",
   "version": "2.7.11"
  }
 },
 "nbformat": 4,
 "nbformat_minor": 0
}
