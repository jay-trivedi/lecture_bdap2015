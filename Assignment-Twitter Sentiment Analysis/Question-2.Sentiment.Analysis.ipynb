{
 "cells": [
  {
   "cell_type": "markdown",
   "metadata": {},
   "source": [
    "# Ques.2 Feed negative and positive tweets to the classification function for training. (using the Sentiment140 dataset)"
   ]
  },
  {
   "cell_type": "code",
   "execution_count": 1,
   "metadata": {
    "collapsed": true
   },
   "outputs": [],
   "source": [
    "import nltk"
   ]
  },
  {
   "cell_type": "code",
   "execution_count": 7,
   "metadata": {
    "collapsed": false
   },
   "outputs": [
    {
     "name": "stdout",
     "output_type": "stream",
     "text": [
      "showing info http://www.nltk.org/nltk_data/\n"
     ]
    },
    {
     "data": {
      "text/plain": [
       "True"
      ]
     },
     "execution_count": 7,
     "metadata": {},
     "output_type": "execute_result"
    }
   ],
   "source": [
    "nltk.download()"
   ]
  },
  {
   "cell_type": "code",
   "execution_count": 8,
   "metadata": {
    "collapsed": false
   },
   "outputs": [
    {
     "data": {
      "text/plain": [
       "['Busy',\n",
       " 'day',\n",
       " 'ahead',\n",
       " 'of',\n",
       " 'me',\n",
       " '.',\n",
       " 'Also',\n",
       " 'just',\n",
       " 'remembered',\n",
       " 'that',\n",
       " 'I',\n",
       " 'left',\n",
       " 'peah',\n",
       " 'slices',\n",
       " 'in',\n",
       " 'the',\n",
       " 'fridge',\n",
       " 'at',\n",
       " 'work',\n",
       " 'on',\n",
       " 'Friday',\n",
       " '.']"
      ]
     },
     "execution_count": 8,
     "metadata": {},
     "output_type": "execute_result"
    }
   ],
   "source": [
    "nltk.word_tokenize(\"Busy day ahead of me. Also just remembered that I left peah slices in the fridge at work on Friday. \")"
   ]
  },
  {
   "cell_type": "code",
   "execution_count": 115,
   "metadata": {
    "collapsed": true
   },
   "outputs": [],
   "source": [
    "import pandas as pd"
   ]
  },
  {
   "cell_type": "code",
   "execution_count": 135,
   "metadata": {
    "collapsed": true
   },
   "outputs": [],
   "source": [
    "j =pd.read_csv(\"TestData.csv\")"
   ]
  },
  {
   "cell_type": "code",
   "execution_count": 136,
   "metadata": {
    "collapsed": true
   },
   "outputs": [],
   "source": [
    "j.columns=['polarity','id','date','query','usernames','tweet']"
   ]
  },
  {
   "cell_type": "code",
   "execution_count": 137,
   "metadata": {
    "collapsed": false
   },
   "outputs": [],
   "source": [
    "pt=j[j['polarity']==4]\n",
    "positivetweets=pt[['tweet','polarity']].values.tolist()\n",
    "nt=j[j['polarity']==0] \n",
    "negativetweets=nt[['tweet','polarity']].values.tolist()"
   ]
  },
  {
   "cell_type": "code",
   "execution_count": 138,
   "metadata": {
    "collapsed": false
   },
   "outputs": [],
   "source": [
    "tweets = []\n",
    "for(words,sentiment) in positivetweets+negativetweets:\n",
    "    words_filtered=[e.lower() for e in words.split() if len(e)>=3]\n",
    "    tweets.append((words_filtered,sentiment))"
   ]
  },
  {
   "cell_type": "code",
   "execution_count": 139,
   "metadata": {
    "collapsed": true
   },
   "outputs": [],
   "source": [
    "def get_words_in_tweets(tweets):\n",
    "    all_words=[]\n",
    "    for(words,sentiment) in tweets:\n",
    "        all_words.extend(words)\n",
    "    return all_words"
   ]
  },
  {
   "cell_type": "code",
   "execution_count": 140,
   "metadata": {
    "collapsed": true
   },
   "outputs": [],
   "source": [
    "def get_words_features(wordlist):\n",
    "    wordlist=nltk.FreqDist(wordlist)\n",
    "    word_features=wordlist.keys()\n",
    "    return word_features"
   ]
  },
  {
   "cell_type": "code",
   "execution_count": 141,
   "metadata": {
    "collapsed": true
   },
   "outputs": [],
   "source": [
    "word_features=get_words_features(get_words_in_tweets(tweets))"
   ]
  },
  {
   "cell_type": "code",
   "execution_count": 142,
   "metadata": {
    "collapsed": false
   },
   "outputs": [],
   "source": [
    "def extract_features(document):\n",
    "    document_words=set(document)\n",
    "    features={}\n",
    "    for word in word_features:\n",
    "        features['contains(%s)'%word] = (word in document_words)\n",
    "    return features"
   ]
  },
  {
   "cell_type": "code",
   "execution_count": 143,
   "metadata": {
    "collapsed": true
   },
   "outputs": [],
   "source": [
    "training_set=nltk.classify.apply_features(extract_features,tweets)"
   ]
  },
  {
   "cell_type": "code",
   "execution_count": 144,
   "metadata": {
    "collapsed": true
   },
   "outputs": [],
   "source": [
    "classifier=nltk.NaiveBayesClassifier.train(training_set)"
   ]
  },
  {
   "cell_type": "code",
   "execution_count": 145,
   "metadata": {
    "collapsed": false
   },
   "outputs": [
    {
     "name": "stdout",
     "output_type": "stream",
     "text": [
      "Most Informative Features\n",
      "          contains(hate) = True                0 : 4      =     10.6 : 1.0\n",
      "          contains(time) = True                0 : 4      =      9.8 : 1.0\n",
      "          contains(love) = True                4 : 0      =      8.8 : 1.0\n",
      "           contains(his) = True                4 : 0      =      5.5 : 1.0\n",
      "           contains(one) = True                4 : 0      =      4.9 : 1.0\n",
      "           contains(why) = True                0 : 4      =      4.4 : 1.0\n",
      "         contains(night) = True                4 : 0      =      4.3 : 1.0\n",
      "          contains(they) = True                0 : 4      =      4.3 : 1.0\n",
      "       contains(kindle2) = True                4 : 0      =      4.2 : 1.0\n",
      "          contains(very) = True                4 : 0      =      4.2 : 1.0\n",
      "          contains(that) = True                0 : 4      =      3.9 : 1.0\n",
      "          contains(down) = True                0 : 4      =      3.7 : 1.0\n",
      "         contains(could) = True                0 : 4      =      3.7 : 1.0\n",
      "          contains(wish) = True                0 : 4      =      3.7 : 1.0\n",
      "        contains(museum) = True                4 : 0      =      3.7 : 1.0\n",
      "        contains(google) = True                4 : 0      =      3.7 : 1.0\n",
      "           contains(it!) = True                4 : 0      =      3.6 : 1.0\n",
      "         contains(happy) = True                4 : 0      =      3.6 : 1.0\n",
      "      contains(watching) = True                4 : 0      =      3.6 : 1.0\n",
      "          contains(nike) = True                4 : 0      =      3.5 : 1.0\n",
      "         contains(great) = True                4 : 0      =      3.5 : 1.0\n",
      "           contains(can) = True                0 : 4      =      3.5 : 1.0\n",
      "           contains(new) = True                4 : 0      =      3.5 : 1.0\n",
      "          contains(best) = True                4 : 0      =      3.3 : 1.0\n",
      "           contains(see) = True                4 : 0      =      3.3 : 1.0\n",
      "          contains(good) = True                4 : 0      =      3.3 : 1.0\n",
      "         contains(still) = True                0 : 4      =      3.1 : 1.0\n",
      "          contains(even) = True                0 : 4      =      3.1 : 1.0\n",
      "          contains(make) = True                0 : 4      =      3.1 : 1.0\n",
      "         contains(phone) = True                0 : 4      =      3.1 : 1.0\n",
      "          contains(fail) = True                0 : 4      =      3.1 : 1.0\n",
      "           contains(now) = True                0 : 4      =      3.1 : 1.0\n",
      "None\n"
     ]
    }
   ],
   "source": [
    "print classifier.show_most_informative_features(32)"
   ]
  },
  {
   "cell_type": "code",
   "execution_count": null,
   "metadata": {
    "collapsed": true
   },
   "outputs": [],
   "source": []
  }
 ],
 "metadata": {
  "kernelspec": {
   "display_name": "Python 2",
   "language": "python",
   "name": "python2"
  },
  "language_info": {
   "codemirror_mode": {
    "name": "ipython",
    "version": 2
   },
   "file_extension": ".py",
   "mimetype": "text/x-python",
   "name": "python",
   "nbconvert_exporter": "python",
   "pygments_lexer": "ipython2",
   "version": "2.7.11"
  }
 },
 "nbformat": 4,
 "nbformat_minor": 0
}
