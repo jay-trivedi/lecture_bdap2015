{
 "cells": [
  {
   "cell_type": "markdown",
   "metadata": {
    "collapsed": true
   },
   "source": [
    "# Q4. Crawl all followers of SRK. How can you calculate if this is feasible or not? (show the math)"
   ]
  },
  {
   "cell_type": "code",
   "execution_count": 2,
   "metadata": {
    "collapsed": false
   },
   "outputs": [
    {
     "name": "stdout",
     "output_type": "stream",
     "text": [
      "Getting followers of naveen_odisha:\n",
      "Name :  javedsysytem \t\t No.of tweets :  2\n",
      "Name :  AmmarSliteen \t\t No.of tweets :  0\n",
      "Name :  Hemantk26750086 \t\t No.of tweets :  0\n",
      "Name :  Omprakashchoun \t\t No.of tweets :  0\n",
      "Name :  aubrianadoroth5 \t\t No.of tweets :  0\n",
      "Name :  zooom_in14 \t\t No.of tweets :  0\n",
      "Name :  Chhavipant2 \t\t No.of tweets :  0\n",
      "Name :  vikramr14785386 \t\t No.of tweets :  0\n",
      "Name :  amit4das3 \t\t No.of tweets :  0\n",
      "Name :  uSX6kZK1gpQbqug \t\t No.of tweets :  0\n",
      "Name :  FalejaGitesh \t\t No.of tweets :  0\n",
      "Name :  mdibrar44522225 \t\t No.of tweets :  0\n",
      "Name :  iPrudhviMaram \t\t No.of tweets :  74\n",
      "Name :  manjunathNH4 \t\t No.of tweets :  0\n",
      "Name :  Hirendr75971922 \t\t No.of tweets :  0\n",
      "Name :  bappymolla7 \t\t No.of tweets :  0\n",
      "Name :  007_tahmid \t\t No.of tweets :  0\n",
      "Name :  Vinayku52666250 \t\t No.of tweets :  0\n",
      "Name :  aabdulgade323 \t\t No.of tweets :  0\n",
      "Name :  rld970 \t\t No.of tweets :  0\n",
      "Name :  parvezraza904 \t\t No.of tweets :  2\n",
      "Name :  sarah_rajpoot \t\t No.of tweets :  0\n",
      "Name :  ajithku44253241 \t\t No.of tweets :  0\n",
      "Name :  mauludi080504 \t\t No.of tweets :  0\n",
      "Name :  gdggg1241 \t\t No.of tweets :  0\n",
      "Name :  RumbaAlish \t\t No.of tweets :  0\n",
      "Name :  02GucQJ1E850w9g \t\t No.of tweets :  0\n",
      "Name :  sadamhu45316823 \t\t No.of tweets :  0\n",
      "Name :  LeosHaviz \t\t No.of tweets :  233\n",
      "Name :  mridron \t\t No.of tweets :  0\n",
      "Name :  aatishpatil1907 \t\t No.of tweets :  0\n",
      "Name :  morhaf_ali \t\t No.of tweets :  0\n",
      "Name :  ManishSharmabcs \t\t No.of tweets :  0\n",
      "Name :  hayat_moi \t\t No.of tweets :  0\n",
      "Name :  ram33157 \t\t No.of tweets :  0\n",
      "Name :  nishata70153141 \t\t No.of tweets :  0\n",
      "Name :  MahallPatil \t\t No.of tweets :  0\n",
      "Name :  surajtwr \t\t No.of tweets :  1\n",
      "Name :  dedicahyono14 \t\t No.of tweets :  0\n",
      "Name :  Dayman123Love \t\t No.of tweets :  0\n"
     ]
    }
   ],
   "source": [
    "import tweepy\n",
    "import time\n",
    "\n",
    "TWITTER_CONSUMER_KEY = \"LsEFjnM2sH6HJmXMfSj0z21OH\"\n",
    "TWITTER_CONSUMER_SECRET = \"HOnfLgJDfnA1m2dyem1THUorpYFsHE2BGzS6IFenbVboHKFArE\"\n",
    "TWITTER_ACCESS_TOKEN = \"4445875228-39Rv7h0FvDbv3XuMpiQliO3HcO2HrL2ZokovxPi\"\n",
    "TWITTER_ACCESS_TOKEN_SECRET = \"RMdIGwd4CZams3CZsflh2DOpk6ACoxA1UFB70KH47fzZG\"\n",
    "\n",
    "\n",
    "if __name__ == '__main__':\n",
    "    # Create authentication token\n",
    "    auth = tweepy.OAuthHandler(TWITTER_CONSUMER_KEY,TWITTER_CONSUMER_SECRET)\n",
    "    auth.set_access_token(TWITTER_ACCESS_TOKEN,TWITTER_ACCESS_TOKEN_SECRET)\n",
    "\n",
    "    api = tweepy.API(auth)\n",
    "\n",
    "    print 'Getting followers of naveen_odisha:'\n",
    "\n",
    "#data = api.get_user('naveen_odisha')\n",
    "#print 'Followers:\\n ' + str(data.get_user(id))\n",
    "\n",
    "for user in tweepy.Cursor(api.followers, screen_name=\"iamsrk\").items(40):\n",
    "    try:\n",
    "        print \"Name : \",user.screen_name,\"\\t\\t No.of tweets : \",user.statuses_count\n",
    "    except tweepy.TweepError, e:\n",
    "        if e == \"[{u'message': u'Rate limit exceeded', u'code': 88}]\":\n",
    "            time.sleep(60*5) #Sleep for 5 minutes\n",
    "        else:\n",
    "            print e\n"
   ]
  }
 ],
 "metadata": {
  "kernelspec": {
   "display_name": "Python 2",
   "language": "python",
   "name": "python2"
  },
  "language_info": {
   "codemirror_mode": {
    "name": "ipython",
    "version": 2
   },
   "file_extension": ".py",
   "mimetype": "text/x-python",
   "name": "python",
   "nbconvert_exporter": "python",
   "pygments_lexer": "ipython2",
   "version": "2.7.11"
  }
 },
 "nbformat": 4,
 "nbformat_minor": 0
}
